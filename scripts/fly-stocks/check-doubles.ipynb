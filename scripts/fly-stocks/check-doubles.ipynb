{
 "cells": [
  {
   "cell_type": "code",
   "execution_count": 1,
   "metadata": {},
   "outputs": [
    {
     "name": "stdout",
     "output_type": "stream",
     "text": [
      "There are 81 unique IDs of 81 mac IDs\n"
     ]
    }
   ],
   "source": [
    "import numpy as np\n",
    "import pandas as pd\n",
    "\n",
    "data = pd.read_csv('data/2023-11-08_Raspberry Pi inventory - Plug cameras.csv')\n",
    "data['Mac address'] = data['Mac address'].apply(str.lower) # makes everything lowercase\n",
    "\n",
    "IDs = data.loc[:, 'Mac address']\n",
    "uniqueIDs = np.unique(IDs)\n",
    "\n",
    "print(f'There are {len(uniqueIDs)} unique IDs of {len(IDs)} mac IDs')"
   ]
  }
 ],
 "metadata": {
  "kernelspec": {
   "display_name": "Python 3",
   "language": "python",
   "name": "python3"
  },
  "language_info": {
   "codemirror_mode": {
    "name": "ipython",
    "version": 3
   },
   "file_extension": ".py",
   "mimetype": "text/x-python",
   "name": "python",
   "nbconvert_exporter": "python",
   "pygments_lexer": "ipython3",
   "version": "3.10.12"
  }
 },
 "nbformat": 4,
 "nbformat_minor": 2
}
